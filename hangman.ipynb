{
 "cells": [
  {
   "cell_type": "code",
   "execution_count": 36,
   "metadata": {},
   "outputs": [],
   "source": [
    "import random\n",
    "import os"
   ]
  },
  {
   "cell_type": "code",
   "execution_count": 51,
   "metadata": {},
   "outputs": [
    {
     "name": "stdout",
     "output_type": "stream",
     "text": [
      "перерожденец\n"
     ]
    }
   ],
   "source": [
    "#! Программа подсчета слов в файле\n",
    " \n",
    "def get_words(filename):\n",
    " \n",
    "    with open(filename, encoding=\"utf8\") as file:\n",
    "        text = file.read()\n",
    "    text = text.lower()\n",
    "    words = text.split()\n",
    "    words.sort()\n",
    "    return words\n",
    "\n",
    "def random_words(count):\n",
    "    number_word = random.randrange(0,int(count),1)\n",
    "    return number_word\n",
    "    \n",
    "def main():\n",
    "    filename = 'E:\\GitHub\\PythonProject\\hangman_games\\word_rus.txt'\n",
    "    words = get_words(filename)\n",
    "\n",
    "    print(words[random_words(len(words))])\n",
    "\n",
    "\n",
    "\n",
    " \n",
    "if __name__ == \"__main__\":\n",
    "    main()"
   ]
  }
 ],
 "metadata": {
  "kernelspec": {
   "display_name": "Python 3",
   "language": "python",
   "name": "python3"
  },
  "language_info": {
   "codemirror_mode": {
    "name": "ipython",
    "version": 3
   },
   "file_extension": ".py",
   "mimetype": "text/x-python",
   "name": "python",
   "nbconvert_exporter": "python",
   "pygments_lexer": "ipython3",
   "version": "3.7.4"
  }
 },
 "nbformat": 4,
 "nbformat_minor": 2
}
